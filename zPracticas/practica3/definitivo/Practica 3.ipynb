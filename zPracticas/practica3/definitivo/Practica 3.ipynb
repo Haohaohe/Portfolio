{
 "cells": [
  {
   "cell_type": "markdown",
   "metadata": {},
   "source": [
    "PARTE 1: REGRESIÓN LOGÍSTICA MULTI-CLASE"
   ]
  },
  {
   "cell_type": "markdown",
   "metadata": {},
   "source": [
    "1. Importamos las bibliotecas necesarias"
   ]
  },
  {
   "cell_type": "code",
   "execution_count": 107,
   "metadata": {},
   "outputs": [],
   "source": [
    "import numpy as np\n",
    "import matplotlib.pyplot as plt\n",
    "from scipy.io import loadmat\n",
    "from scipy.optimize import minimize\n",
    "import scipy.optimize as opt"
   ]
  },
  {
   "cell_type": "markdown",
   "metadata": {},
   "source": [
    "2. Cargamos los datos"
   ]
  },
  {
   "cell_type": "code",
   "execution_count": 101,
   "metadata": {},
   "outputs": [],
   "source": [
    "data = loadmat('C:/Users/carli_000/Desktop/AA/ex3data1.mat')\n"
   ]
  },
  {
   "cell_type": "markdown",
   "metadata": {},
   "source": [
    "3. Función sigmoide"
   ]
  },
  {
   "cell_type": "code",
   "execution_count": 102,
   "metadata": {},
   "outputs": [],
   "source": [
    "def s(z):\n",
    "    return 1 / (1 + np.exp(-z))"
   ]
  },
  {
   "cell_type": "markdown",
   "metadata": {},
   "source": [
    "4. Función de coste vectorizada y con el término de regulazación"
   ]
  },
  {
   "cell_type": "code",
   "execution_count": 103,
   "metadata": {},
   "outputs": [],
   "source": [
    "\n",
    "def coste(theta, X, y, reg):\n",
    "    theta = np.matrix(theta)\n",
    "    X = np.matrix(X)\n",
    "    y = np.matrix(y)\n",
    "    first = np.multiply(-y, np.log(s(X * theta.T)))\n",
    "    second = np.multiply((1 - y), np.log(1 - s(X * theta.T)))\n",
    "    aux = (reg/ 2 * len(X)) * np.sum(np.power(theta[:,1:theta.shape[1]], 2))\n",
    "    return np.sum(first - second) / (len(X)) + aux"
   ]
  },
  {
   "cell_type": "markdown",
   "metadata": {},
   "source": [
    "5. Calculo del gradiente vectorizado"
   ]
  },
  {
   "cell_type": "code",
   "execution_count": 104,
   "metadata": {},
   "outputs": [],
   "source": [
    "def gradiente(theta, X, y, reg):\n",
    "    theta = np.matrix(theta)\n",
    "    X = np.matrix(X)\n",
    "    y = np.matrix(y)\n",
    "   \n",
    "    aux = s(X * theta.T) - y\n",
    "    \n",
    "    gradiente = ((X.T * aux) / len(X)).T + ((reg / len(X)) * theta)\n",
    "    \n",
    "    gradiente[0, 0] = np.sum(np.multiply(aux, X[:,0])) / len(X)\n",
    "    \n",
    "    return np.array(gradiente).ravel()"
   ]
  },
  {
   "cell_type": "markdown",
   "metadata": {},
   "source": [
    "5. One_vs_all"
   ]
  },
  {
   "cell_type": "markdown",
   "metadata": {},
   "source": [
    "Entrena varios clasificadores por regresión logística. Devuelve all_theta donde la fila-ilesima corresponde con la etiqueta i-esima.\n",
    "Haremos uso de la función de coste en la que a la matrix X hemos añadido una fila de 1's. "
   ]
  },
  {
   "cell_type": "code",
   "execution_count": 143,
   "metadata": {},
   "outputs": [],
   "source": [
    "\n",
    "def one_vs_all(X, y, num_etiquetas, reg):\n",
    "    filas = X.shape[0]\n",
    "    cols= X.shape[1]\n",
    "\n",
    "    all_theta = np.zeros((num_etiquetas, cols + 1))\n",
    "    X = np.insert(X, 0, values=np.ones(filas), axis=1)\n",
    "\n",
    "    for i in range(1, num_etiquetas + 1):\n",
    "        theta = np.zeros(cols + 1)\n",
    "        aux_y = np.array([1 if label == i else 0 for label in y])\n",
    "        aux_y = np.reshape(aux_y, (filas, 1))\n",
    "        #result = opt.fmin_tnc(func= coste, x0=theta, fprime=gradiente, args =(X, aux_y,reg))\n",
    "\n",
    "        result = minimize(fun=coste, x0=theta, args=(X, aux_y, reg), method='TNC', jac=gradiente)\n",
    "        all_theta[i-1,:] = result.x\n",
    "        #all_theta = result.x\n",
    "       \n",
    "    return all_theta"
   ]
  },
  {
   "cell_type": "markdown",
   "metadata": {},
   "source": [
    "Guargamos el valor de all_theta."
   ]
  },
  {
   "cell_type": "code",
   "execution_count": 144,
   "metadata": {},
   "outputs": [
    {
     "name": "stdout",
     "output_type": "stream",
     "text": [
      "[[-5.92145692e-04  0.00000000e+00  0.00000000e+00 ... -3.59744654e-09\n",
      "   3.71183944e-10  0.00000000e+00]\n",
      " [-7.17080473e-04  0.00000000e+00  0.00000000e+00 ...  5.81217735e-08\n",
      "  -4.96248370e-09  0.00000000e+00]\n",
      " [-6.71691751e-04  0.00000000e+00  0.00000000e+00 ... -6.09592778e-09\n",
      "   3.72049769e-10  0.00000000e+00]\n",
      " ...\n",
      " [-5.60873022e-04  0.00000000e+00  0.00000000e+00 ... -5.53997763e-09\n",
      "   3.43612329e-10  0.00000000e+00]\n",
      " [-6.12165983e-04  0.00000000e+00  0.00000000e+00 ... -6.47861572e-09\n",
      "   4.24991029e-10  0.00000000e+00]\n",
      " [-1.06139604e-03  0.00000000e+00  0.00000000e+00 ... -5.60096576e-08\n",
      "   1.82034745e-09  0.00000000e+00]]\n"
     ]
    }
   ],
   "source": [
    "all_theta = one_vs_all(data['X'], data['y'], 10, 0.1)\n",
    "print(all_theta)"
   ]
  },
  {
   "cell_type": "markdown",
   "metadata": {},
   "source": [
    "6. Calculamos el número de aciertos"
   ]
  },
  {
   "cell_type": "code",
   "execution_count": 145,
   "metadata": {},
   "outputs": [],
   "source": [
    "def predict(X, all_theta):\n",
    "    num_etiquetas = all_theta.shape[0]\n",
    "    filas = X.shape[0]\n",
    "    cols= X.shape[1]\n",
    "    \n",
    "    X = np.insert(X, 0, values=np.ones(filas), axis=1)\n",
    "    X = np.matrix(X)\n",
    "    all_theta = np.matrix(all_theta)\n",
    "    hipotesis = s(X * all_theta.T)\n",
    "    #max\n",
    "    hipotesis_max = np.argmax(hipotesis, axis=1)\n",
    "    hipotesis_max = hipotesis_max + 1\n",
    "    \n",
    "    return hipotesis_max"
   ]
  },
  {
   "cell_type": "markdown",
   "metadata": {},
   "source": [
    "El porcentaje es del 76.6%, no es cercano al 95% como dice el enunciado que tiene que salir. Pero es correcto."
   ]
  },
  {
   "cell_type": "code",
   "execution_count": 146,
   "metadata": {},
   "outputs": [
    {
     "name": "stdout",
     "output_type": "stream",
     "text": [
      "76.6\n"
     ]
    }
   ],
   "source": [
    "y_pred = predict(data['X'], all_theta)\n",
    "correcto = [1 if i == x else 0 for (i, x) in zip(y_pred, data['y'])]\n",
    "result = (sum(map(int, correcto)) / len(correcto))\n",
    "print (result * 100)\n"
   ]
  },
  {
   "cell_type": "markdown",
   "metadata": {},
   "source": [
    "PARTE 2: REDES NEURONALES"
   ]
  },
  {
   "cell_type": "markdown",
   "metadata": {},
   "source": [
    "1. Cargamos los pesos."
   ]
  },
  {
   "cell_type": "code",
   "execution_count": 153,
   "metadata": {},
   "outputs": [],
   "source": [
    "weights = loadmat ('C:/Users/carli_000/Desktop/AA/ex3weights.mat')\n",
    "theta1,theta2 = weights ['Theta1'] , weights['Theta2']\n",
    "# Theta1 es de dimensión 25 x 401\n",
    "# Theta2 es de dimensión 10 x 26\n"
   ]
  },
  {
   "cell_type": "code",
   "execution_count": 154,
   "metadata": {},
   "outputs": [],
   "source": [
    "X = data['X']\n",
    "y = data['y']"
   ]
  },
  {
   "cell_type": "markdown",
   "metadata": {},
   "source": [
    "2. Propagación hacia adelante"
   ]
  },
  {
   "cell_type": "markdown",
   "metadata": {},
   "source": [
    "Obtiene el valor de salida de la red para cada ejemplo i-ésimo."
   ]
  },
  {
   "cell_type": "code",
   "execution_count": 155,
   "metadata": {},
   "outputs": [],
   "source": [
    "def propagacion_delante(X,theta1,theta2):\n",
    "    filas = X.shape[0]\n",
    "    \n",
    "    a1 = np.insert(X, 0, values=np.ones(filas), axis=1)\n",
    "    z2 = a1*theta1.T\n",
    "    a2 =  np.insert(s(z2), 0, values=np.ones(filas), axis=1)\n",
    "    z3 = a2 * theta2.T\n",
    "    h = s(z3)\n",
    "    return a1, z2, a2, z3, h\n",
    "    "
   ]
  },
  {
   "cell_type": "markdown",
   "metadata": {},
   "source": [
    "Al igual que en la primera parte, haremos uso de np.argmax que nos devuelve el porcentaje máximo."
   ]
  },
  {
   "cell_type": "code",
   "execution_count": 165,
   "metadata": {},
   "outputs": [],
   "source": [
    "X = np.matrix(X)\n",
    "#theta1 = np.matrix(np.reshape(fmin.x[:hidden_size * (input_size + 1)], (hidden_size, (input_size + 1))))\n",
    "#theta2 = np.matrix(np.reshape(fmin.x[hidden_size * (input_size + 1):], (num_labels, (hidden_size + 1))))\n",
    "\n",
    "a1, z2, a2, z3, h = propagacion_delante(X, theta1, theta2)\n",
    "y_pred = np.array(np.argmax(h, axis=1) + 1)"
   ]
  },
  {
   "cell_type": "markdown",
   "metadata": {},
   "source": [
    "El porcencentaje es del 97.52 por lo que es muy preciso."
   ]
  },
  {
   "cell_type": "code",
   "execution_count": 166,
   "metadata": {},
   "outputs": [
    {
     "name": "stdout",
     "output_type": "stream",
     "text": [
      "97.52\n"
     ]
    }
   ],
   "source": [
    "correcto = [1 if a == b else 0 for (a, b) in zip(y_pred, y)]\n",
    "result = (sum(map(int, correcto)) / len(correcto))\n",
    "print (result * 100)"
   ]
  },
  {
   "cell_type": "markdown",
   "metadata": {},
   "source": []
  },
  {
   "cell_type": "markdown",
   "metadata": {},
   "source": [
    "Hao Hao He y Carla Paola Peñarrieta Uribe"
   ]
  }
 ],
 "metadata": {
  "kernelspec": {
   "display_name": "Python 3",
   "language": "python",
   "name": "python3"
  },
  "language_info": {
   "codemirror_mode": {
    "name": "ipython",
    "version": 3
   },
   "file_extension": ".py",
   "mimetype": "text/x-python",
   "name": "python",
   "nbconvert_exporter": "python",
   "pygments_lexer": "ipython3",
   "version": "3.7.3"
  }
 },
 "nbformat": 4,
 "nbformat_minor": 2
}
