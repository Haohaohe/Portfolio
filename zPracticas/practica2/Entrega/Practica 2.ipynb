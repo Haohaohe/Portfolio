{
 "cells": [
  {
   "cell_type": "markdown",
   "metadata": {},
   "source": [
    "PARTE 1: Regresión logística"
   ]
  },
  {
   "cell_type": "markdown",
   "metadata": {},
   "source": [
    "1. Bibliotecas necesarias para la práctica"
   ]
  },
  {
   "cell_type": "code",
   "execution_count": 8,
   "metadata": {},
   "outputs": [],
   "source": [
    "#bibliotecas\n",
    "import numpy as np\n",
    "import matplotlib.pyplot as plt\n",
    "import math\n",
    "import scipy.optimize as opt"
   ]
  },
  {
   "cell_type": "markdown",
   "metadata": {},
   "source": [
    "2. Extraemos los datos del csv. X contiene las dos primeras columnas e Y contiene la última columna"
   ]
  },
  {
   "cell_type": "code",
   "execution_count": 9,
   "metadata": {},
   "outputs": [],
   "source": [
    "from pandas.io.parsers import read_csv\n",
    "valores = read_csv('C:/Users/carli_000/Desktop/ex2data1.csv', header= None)\n",
    "X = valores.iloc[:,:-1]\n",
    "Y = valores.iloc[:,2]\n",
    "\n",
    "#print(X, Y)"
   ]
  },
  {
   "cell_type": "markdown",
   "metadata": {},
   "source": [
    "3. Visualización de los datos:\n",
    "    "
   ]
  },
  {
   "cell_type": "markdown",
   "metadata": {},
   "source": [
    "X es la nota del primer examen e Y es la nota del segundo examen. \n",
    "Dibujamos + para las notas que son positivas. \n",
    "Dibujamos puntos amarillos para las notas que son negativas."
   ]
  },
  {
   "cell_type": "code",
   "execution_count": 137,
   "metadata": {},
   "outputs": [
    {
     "data": {
      "image/png": "[encoded data removed]",
      "text/plain": [
       "<Figure size 432x288 with 1 Axes>"
      ]
     },
     "metadata": {},
     "output_type": "display_data"
    }
   ],
   "source": [
    "def graficaEjemplo1():\n",
    "#Obtiene un vector con los índices de los ejemplos positivos\n",
    "    positivos = Y == 1\n",
    "    negativos = Y == 0\n",
    "# Dibuja los ejemplos positivos\n",
    "    plt.scatter(X[positivos][0], X[positivos][1], marker='+' , c='k')\n",
    "    plt.scatter(X[negativos][0], X[negativos][1],marker ='o', c='yellow')\n",
    "    plt.legend(('admitidos', 'no admitidos'))\n",
    "    plt.xlabel('Nota 1 examen')\n",
    "    plt.ylabel('Nota 2 examen')\n",
    "    \n",
    "   \n",
    "graficaEjemplo1()"
   ]
  },
  {
   "cell_type": "markdown",
   "metadata": {},
   "source": [
    "4. Función sigmoide"
   ]
  },
  {
   "cell_type": "code",
   "execution_count": 138,
   "metadata": {},
   "outputs": [],
   "source": [
    "#Funcion sigmoide\n",
    "def h(z):\n",
    "    return 1/(1 + np.exp(-z))"
   ]
  },
  {
   "cell_type": "markdown",
   "metadata": {},
   "source": [
    "Añadimos una columna de 1's a X"
   ]
  },
  {
   "cell_type": "code",
   "execution_count": 139,
   "metadata": {},
   "outputs": [],
   "source": [
    "[m,n]=X.shape\n",
    "ones = np.ones((m,1))\n",
    "X_aux = np.hstack((ones, X))"
   ]
  },
  {
   "cell_type": "markdown",
   "metadata": {},
   "source": [
    "5. Cálculo de la función de coste"
   ]
  },
  {
   "cell_type": "markdown",
   "metadata": {},
   "source": [
    "Para comprobar que para theta inicializada a 0 da el valor correcto. Realizamos la función de coste vectorizada según la formula.\n",
    "    "
   ]
  },
  {
   "cell_type": "code",
   "execution_count": 140,
   "metadata": {},
   "outputs": [
    {
     "data": {
      "text/plain": [
       "array([0.69314718])"
      ]
     },
     "execution_count": 140,
     "metadata": {},
     "output_type": "execute_result"
    }
   ],
   "source": [
    "#funcion de coste vectorizada\n",
    "\n",
    "def funCoste(theta , X, Y):\n",
    "    coste = (-1) * (np.matmul(np.transpose(np.log(h(X@theta))), Y) + \n",
    "                   np.matmul(np.transpose(np.log(1 - h(X@theta))), (1-Y)))/m\n",
    "    \n",
    "    return coste       \n",
    "funCoste(np.zeros((3,1)), X_aux, Y)\n"
   ]
  },
  {
   "cell_type": "code",
   "execution_count": 141,
   "metadata": {},
   "outputs": [],
   "source": [
    "Y_aux = Y[:, np.newaxis]"
   ]
  },
  {
   "cell_type": "markdown",
   "metadata": {},
   "source": [
    "6. Realización del gradiente vectorizado."
   ]
  },
  {
   "cell_type": "code",
   "execution_count": 142,
   "metadata": {},
   "outputs": [
    {
     "data": {
      "text/plain": [
       "array([[ -0.1       ],\n",
       "       [-12.00921659],\n",
       "       [-11.26284221]])"
      ]
     },
     "execution_count": 142,
     "metadata": {},
     "output_type": "execute_result"
    }
   ],
   "source": [
    "#gradiente vectorizado\n",
    "\n",
    "def gradiente(theta, X, Y):\n",
    "   # print(np.subtract(h(X@theta),Y))\n",
    "    return ((1/m) * np.transpose(X) @ (h(X @ theta) - Y))\n",
    "gradiente(np.zeros((3,1)), X_aux, Y_aux)\n",
    "\n"
   ]
  },
  {
   "cell_type": "markdown",
   "metadata": {},
   "source": [
    "7. Cálculo del valor óptimo de los parámetros"
   ]
  },
  {
   "cell_type": "code",
   "execution_count": 143,
   "metadata": {},
   "outputs": [
    {
     "name": "stdout",
     "output_type": "stream",
     "text": [
      "[0.2034977]\n"
     ]
    }
   ],
   "source": [
    "#Calculo del valor optimo de los parámetros\n",
    "result = opt.fmin_tnc(func= funCoste, x0=np.zeros((3,1)).flatten(), fprime=gradiente, args =(X_aux, Y_aux.flatten()))\n",
    "theta_opt = result[0]\n",
    "#funcion de coste con theta optimizado\n",
    "costeThetaOp = funCoste(theta_opt, X_aux, Y_aux)\n",
    "print(costeThetaOp)\n"
   ]
  },
  {
   "cell_type": "markdown",
   "metadata": {},
   "source": [
    "8. Pintamos la frontera de decision con los valores de theta optimizados"
   ]
  },
  {
   "cell_type": "code",
   "execution_count": 144,
   "metadata": {},
   "outputs": [
    {
     "data": {
      "image/png": "[encoded data removed]",
      "text/plain": [
       "<Figure size 432x288 with 1 Axes>"
      ]
     },
     "metadata": {},
     "output_type": "display_data"
    }
   ],
   "source": [
    "graficaEjemplo1()\n",
    "valores_x = [np.min(X_aux [:, 1] -2), np.max(X_aux[:, 2] +2)]\n",
    "valores_y = -1 / theta_opt[-1] * (theta_opt[0] + np.dot(theta_opt[1], valores_x))\n",
    "linea_decision = plt.plot(valores_x, valores_y)\n",
    "\n",
    "plt.show()"
   ]
  },
  {
   "cell_type": "markdown",
   "metadata": {},
   "source": [
    "9.Calculo del porcentaje ejemplos de entrenamiento que se clasifican correctamente utilizando los valores de theta"
   ]
  },
  {
   "cell_type": "code",
   "execution_count": 145,
   "metadata": {},
   "outputs": [
    {
     "name": "stdout",
     "output_type": "stream",
     "text": [
      "89.0\n"
     ]
    }
   ],
   "source": [
    "#Evaluacion de la regresion logistica\n",
    "def porcentaje(X_aux, Y_aux,theta):\n",
    "    correcto = 0\n",
    "    for i in range(0,m):\n",
    "        s = h(np.dot(X_aux[i],theta))\n",
    "        if(s>=0.5):\n",
    "            s=1\n",
    "        else:\n",
    "            s=0\n",
    "        if(Y_aux[i] == s):\n",
    "            correcto = correcto + 1\n",
    "    porcentaje = (correcto/m) * 100\n",
    "    return porcentaje\n",
    "p = porcentaje(X_aux, Y_aux, theta_opt)\n",
    "print(p)"
   ]
  },
  {
   "cell_type": "markdown",
   "metadata": {},
   "source": [
    "PARTE 2: Regresión logística regularizada"
   ]
  },
  {
   "cell_type": "markdown",
   "metadata": {},
   "source": [
    " 1. Importamos las bibliotecas necesarias"
   ]
  },
  {
   "cell_type": "code",
   "execution_count": 140,
   "metadata": {},
   "outputs": [],
   "source": [
    "from pandas.io.parsers import read_csv\n",
    "valores = read_csv('C:/Users/carli_000/Desktop/ex2data2.csv', header= None)\n",
    "X2 = valores.iloc[:,:-1]\n",
    "Y2 = valores.iloc[:,2]"
   ]
  },
  {
   "cell_type": "markdown",
   "metadata": {},
   "source": [
    "2. Representamos la gráfica en el que el eje x es el resultado del test del microchip 1 y el eje y es el resultado del test del microchip 2 en función de y (si el funciona o no el microchip)"
   ]
  },
  {
   "cell_type": "code",
   "execution_count": 141,
   "metadata": {},
   "outputs": [
    {
     "data": {
      "image/png": "[encoded data removed]",
      "text/plain": [
       "<Figure size 432x288 with 1 Axes>"
      ]
     },
     "metadata": {},
     "output_type": "display_data"
    }
   ],
   "source": [
    "def graficaEjemplo2():\n",
    "#Obtiene un vector con los índices de los ejemplos positivos\n",
    "    positivos = Y2 == 1\n",
    "    negativos = Y2 == 0\n",
    "# Dibuja los ejemplos positivos\n",
    "    plt.scatter(X2[positivos][0], X2[positivos][1], marker='+' , c='k')\n",
    "    plt.scatter(X2[negativos][0], X2[negativos][1], marker ='o', c='yellow')\n",
    "    plt.legend(('y = 1', 'y = 0'))\n",
    "    plt.xlabel('microchip test 1')\n",
    "    plt.ylabel('microchip test 2')\n",
    "    \n",
    "   \n",
    "graficaEjemplo2()"
   ]
  },
  {
   "cell_type": "markdown",
   "metadata": {},
   "source": [
    "3. Importamos las bibliotecas necesarias"
   ]
  },
  {
   "cell_type": "code",
   "execution_count": 142,
   "metadata": {},
   "outputs": [],
   "source": [
    "import sklearn.preprocessing as Pol"
   ]
  },
  {
   "cell_type": "markdown",
   "metadata": {},
   "source": [
    "4. Mapeo de los atributos: utilizamos polynomialFeatures para extender cada ejemplo de entrenamiento con los términos polinómicos de x1 y x2 hasta la sexta potencia, completando así un total de 28 atributos para cada ejemplo."
   ]
  },
  {
   "cell_type": "code",
   "execution_count": 143,
   "metadata": {},
   "outputs": [
    {
     "data": {
      "text/plain": [
       "array([[ 1.00000000e+00,  5.12670000e-02,  6.99560000e-01, ...,\n",
       "         6.29470940e-04,  8.58939846e-03,  1.17205992e-01],\n",
       "       [ 1.00000000e+00, -9.27420000e-02,  6.84940000e-01, ...,\n",
       "         1.89305413e-03, -1.39810280e-02,  1.03255971e-01],\n",
       "       [ 1.00000000e+00, -2.13710000e-01,  6.92250000e-01, ...,\n",
       "         1.04882142e-02, -3.39734512e-02,  1.10046893e-01],\n",
       "       ...,\n",
       "       [ 1.00000000e+00, -4.84450000e-01,  9.99270000e-01, ...,\n",
       "         2.34007252e-01, -4.82684337e-01,  9.95627986e-01],\n",
       "       [ 1.00000000e+00, -6.33640000e-03,  9.99270000e-01, ...,\n",
       "         4.00328554e-05, -6.31330588e-03,  9.95627986e-01],\n",
       "       [ 1.00000000e+00,  6.32650000e-01, -3.06120000e-02, ...,\n",
       "         3.51474517e-07, -1.70067777e-08,  8.22905998e-10]])"
      ]
     },
     "execution_count": 143,
     "metadata": {},
     "output_type": "execute_result"
    }
   ],
   "source": [
    "#def mapFeature:\n",
    "def mapFeature():\n",
    "    poly = Pol.PolynomialFeatures(6)\n",
    "    return poly.fit_transform(X2)\n",
    "mapFeature()"
   ]
  },
  {
   "cell_type": "markdown",
   "metadata": {},
   "source": [
    "5. Función sigmoide"
   ]
  },
  {
   "cell_type": "code",
   "execution_count": 144,
   "metadata": {},
   "outputs": [],
   "source": [
    "#Funcion sigmoide\n",
    "def h(z):\n",
    "    return 1/(1 + np.exp(-z))"
   ]
  },
  {
   "cell_type": "markdown",
   "metadata": {},
   "source": [
    "6. Función de coste"
   ]
  },
  {
   "cell_type": "code",
   "execution_count": 145,
   "metadata": {},
   "outputs": [],
   "source": [
    "[m,n]=X2.shape"
   ]
  },
  {
   "cell_type": "markdown",
   "metadata": {},
   "source": [
    "7. Calculo de la función de coste según la fórmula. Para comprobar que es correcto probamos con theta todo a 0 y landa 1. Se obtiene 0.69314718"
   ]
  },
  {
   "cell_type": "code",
   "execution_count": 155,
   "metadata": {},
   "outputs": [
    {
     "data": {
      "text/plain": [
       "array([0.69314718])"
      ]
     },
     "execution_count": 155,
     "metadata": {},
     "output_type": "execute_result"
    }
   ],
   "source": [
    "def funCost(theta, X, Y, landa):\n",
    "    return -(np.matmul(np.transpose(np.log(h(X@theta))), Y) +\n",
    "            (np.matmul(np.transpose(np.log(1-h(X@theta))), (1 - Y)))+\n",
    "             (landa/(2*m)) * (sum(theta**2)))/m\n",
    "funCost(np.zeros((n,1)),X2,Y2,1)\n",
    "             "
   ]
  },
  {
   "cell_type": "markdown",
   "metadata": {},
   "source": [
    "8. Cálculo del gradiente"
   ]
  },
  {
   "cell_type": "code",
   "execution_count": 17,
   "metadata": {},
   "outputs": [],
   "source": [
    "Y2_aux = Y2[:, np.newaxis]"
   ]
  },
  {
   "cell_type": "code",
   "execution_count": 38,
   "metadata": {},
   "outputs": [
    {
     "data": {
      "text/plain": [
       "array([[8.47457627e-03],\n",
       "       [1.87880932e-02],\n",
       "       [7.77711864e-05],\n",
       "       [5.03446395e-02],\n",
       "       [1.15013308e-02],\n",
       "       [3.76648474e-02],\n",
       "       [1.83559872e-02],\n",
       "       [7.32393391e-03],\n",
       "       [8.19244468e-03],\n",
       "       [2.34764889e-02],\n",
       "       [3.93486234e-02],\n",
       "       [2.23923907e-03],\n",
       "       [1.28600503e-02],\n",
       "       [3.09593720e-03],\n",
       "       [3.93028171e-02],\n",
       "       [1.99707467e-02],\n",
       "       [4.32983232e-03],\n",
       "       [3.38643902e-03],\n",
       "       [5.83822078e-03],\n",
       "       [4.47629067e-03],\n",
       "       [3.10079849e-02],\n",
       "       [3.10312442e-02],\n",
       "       [1.09740238e-03],\n",
       "       [6.31570797e-03],\n",
       "       [4.08503006e-04],\n",
       "       [7.26504316e-03],\n",
       "       [1.37646175e-03],\n",
       "       [3.87936363e-02]])"
      ]
     },
     "execution_count": 38,
     "metadata": {},
     "output_type": "execute_result"
    }
   ],
   "source": [
    "\n",
    "def gradiente2(theta,X,Y,landa):\n",
    "    return (((np.transpose(X))@(h(X@theta) - Y)) + ((landa/m)*theta))/m\n",
    "gradiente2(np.zeros((28,1)), mapFeature(), Y2_aux, 1)"
   ]
  },
  {
   "cell_type": "markdown",
   "metadata": {},
   "source": [
    "9. Cálculo del valor óptimo de los parámetros"
   ]
  },
  {
   "cell_type": "code",
   "execution_count": 158,
   "metadata": {},
   "outputs": [
    {
     "name": "stdout",
     "output_type": "stream",
     "text": [
      "[ 3.77377444  1.99417441  4.69597945 -5.44022689 -6.87638526 -5.89909717\n",
      "  2.2590138   0.08940053  2.75128489 -2.7056456  -3.76442566  3.18093579\n",
      " -3.95743691 -1.91232391 -6.67407337 -1.85331642 -0.98793687  5.58587702\n",
      " -3.91736575 -4.84178202  3.19074231 -5.8564317   0.29735646 -0.87774435\n",
      "  3.61191529 -5.03648702 -3.9206938   0.29653692]\n"
     ]
    }
   ],
   "source": [
    "def valorOptimo():\n",
    "    output = opt.fmin_tnc(func = funCost, x0 = np.zeros((28,1)).flatten(), fprime = gradiente2,  args = (mapFeature(), Y2_aux.flatten(), 1))\n",
    "    theta = output[0]\n",
    "    print(theta)\n",
    "    \n",
    "valorOptimo()"
   ]
  },
  {
   "cell_type": "markdown",
   "metadata": {},
   "source": [
    "9. Pintamos la frontera de regresión."
   ]
  },
  {
   "cell_type": "code",
   "execution_count": 157,
   "metadata": {},
   "outputs": [
    {
     "data": {
      "image/png": "[encoded data removed]",
      "text/plain": [
       "<Figure size 432x288 with 1 Axes>"
      ]
     },
     "metadata": {},
     "output_type": "display_data"
    }
   ],
   "source": [
    "\n",
    "graficaEjemplo2()\n",
    "poly = Pol.PolynomialFeatures(6)\n",
    "def plot_decisionboundary(X, Y, theta, poly):\n",
    "    x1_min, x1_max = X[:, 0].min(), X[:, 0].max()\n",
    "    x2_min, x2_max = X[:, 1].min(), X[:, 1].max()\n",
    "    xx1, xx2 = np.meshgrid(np.linspace(x1_min, x1_max),\n",
    "    np.linspace(x2_min, x2_max))\n",
    "    h1 = h(poly.fit_transform(np.c_[xx1.ravel(),xx2.ravel()]).dot(theta))\n",
    "    h1 = h1.reshape(xx1.shape)\n",
    "    plt.contour(xx1, xx2, h1, [0.5], linewidths=1, colors='g')\n",
    "    \n",
    "plot_decisionboundary(np.matrix(X2), Y2, theta, poly)\n"
   ]
  },
  {
   "cell_type": "markdown",
   "metadata": {},
   "source": []
  },
  {
   "cell_type": "markdown",
   "metadata": {},
   "source": [
    "Alumnos: Carla Paola Peñarrieta Uribe y Hao Hao He"
   ]
  }
 ],
 "metadata": {
  "kernelspec": {
   "display_name": "Python 3",
   "language": "python",
   "name": "python3"
  },
  "language_info": {
   "codemirror_mode": {
    "name": "ipython",
    "version": 3
   },
   "file_extension": ".py",
   "mimetype": "text/x-python",
   "name": "python",
   "nbconvert_exporter": "python",
   "pygments_lexer": "ipython3",
   "version": "3.6.5"
  }
 },
 "nbformat": 4,
 "nbformat_minor": 2
}
