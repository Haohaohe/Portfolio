{
 "cells": [
  {
   "cell_type": "markdown",
   "metadata": {},
   "source": [
    "1. Importamos las bibliotecas necesarias."
   ]
  },
  {
   "cell_type": "code",
   "execution_count": 1,
   "metadata": {},
   "outputs": [],
   "source": [
    "from scipy.io import loadmat\n",
    "import numpy as np\n",
    "import matplotlib.pyplot as plt\n",
    "import scipy.optimize as opt\n",
    "import pandas as pd\n",
    "import math\n",
    "import random as rdm\n",
    "import checkNNGradients as compararGradientes"
   ]
  },
  {
   "cell_type": "code",
   "execution_count": 2,
   "metadata": {},
   "outputs": [],
   "source": [
    "# se pueden consultar las claves con data . keys ( )\n",
    "weights = loadmat('C:/Users/HAO-H/Documents/Universidad/AA/zPracticas/practica4/ex4weights.mat')\n",
    "data = loadmat('C:/Users/HAO-H/Documents/Universidad/AA/zPracticas/practica4/ex4data1.mat')\n",
    "#Theta1 es de dimensión 25 x 401\n",
    "#Theta2 es de dimensión 10 x 26\n",
    "thet1, thet2 = weights['Theta1'], weights['Theta2']"
   ]
  },
  {
   "cell_type": "code",
   "execution_count": 3,
   "metadata": {},
   "outputs": [],
   "source": [
    "# Valores de X e y\n",
    "X = data ['X']\n",
    "y = data ['y']\n",
    "#params_rn = (np.random.random(size=25 * (400 + 1) + 10* (25 + 1)) - 0.5) * 0.25\n",
    "#Union de thetas\n",
    "params_rn=np.hstack((thet1.ravel(), thet2.ravel()))\n",
    "#params_rn=np.hstack((thet1.ravel(order='F'), thet2.ravel(order='F')))"
   ]
  },
  {
   "cell_type": "code",
   "execution_count": 4,
   "metadata": {},
   "outputs": [],
   "source": [
    "#función sigmoide\n",
    "def s(z):\n",
    "    return 1/(1 + np.exp(-z))"
   ]
  },
  {
   "cell_type": "code",
   "execution_count": 5,
   "metadata": {},
   "outputs": [],
   "source": [
    "def propagacion_delante(X, y, Theta1, Theta2):\n",
    "    filas = len(y)\n",
    "    a1_ = np.insert(X, 0, values=np.ones(filas), axis=1)\n",
    "    z2_ = a1_ @ Theta1.T\n",
    "    a2_ =  np.insert(s(z2_), 0, values=np.ones(filas), axis=1)\n",
    "    z3_ = a2_ @ Theta2.T\n",
    "    h_ = s(z3_)\n",
    "    return a1_ , z2_ , a2_ , z3_ , h_"
   ]
  },
  {
   "cell_type": "code",
   "execution_count": 6,
   "metadata": {},
   "outputs": [],
   "source": [
    "def listToArray(y):\n",
    "    if type(y) == list:\n",
    "        y = np.array(y).reshape(-1, 1)\n",
    "        \n",
    "    return y"
   ]
  },
  {
   "cell_type": "markdown",
   "metadata": {},
   "source": [
    " La función de coste."
   ]
  },
  {
   "cell_type": "code",
   "execution_count": 7,
   "metadata": {},
   "outputs": [],
   "source": [
    "def fun_cost(params_rn, num_entradas, num_ocultas, num_etiquetas, X, y_list_, reg):\n",
    "    [m,n] = X.shape\n",
    "    theta1= np.reshape(params_rn[:num_ocultas * (num_entradas+1)],\n",
    "                        (num_ocultas, (num_entradas + 1)))\n",
    "    theta2 = np.reshape(params_rn[(num_ocultas * (num_entradas + 1)):],\n",
    "                        (num_etiquetas,(num_ocultas + 1)))\n",
    "    \n",
    "   \n",
    "    a1, z2, a2, z3, h = propagacion_delante(X, y_list_, theta1, theta2)\n",
    "    y_list_ = listToArray(y_list_)\n",
    "    y_aux = pd.get_dummies(y_list_.flatten())\n",
    "    \n",
    "    #Función de coste regularizada\n",
    "    primera = np.sum((np.sum(np.multiply(y_aux, np.log(h)) + np.multiply(1-y_aux,np.log(1-h))))/(-m))\n",
    "    result = primera + reg * ((np.sum(np.sum(np.power(theta1[:,1:], 2),axis=1))) + \n",
    "                               (np.sum(np.sum(np.power(theta2[:,1:], 2), axis=1))))/(2*m)\n",
    "    \n",
    "    return result"
   ]
  },
  {
   "cell_type": "code",
   "execution_count": 8,
   "metadata": {},
   "outputs": [
    {
     "data": {
      "text/plain": [
       "0.3837698590909235"
      ]
     },
     "execution_count": 8,
     "metadata": {},
     "output_type": "execute_result"
    }
   ],
   "source": [
    "fun_cost(params_rn, 400, 25, 10, X, y, 1)"
   ]
  },
  {
   "cell_type": "markdown",
   "metadata": {},
   "source": [
    "2. Calculo del gradiente"
   ]
  },
  {
   "cell_type": "code",
   "execution_count": 9,
   "metadata": {},
   "outputs": [],
   "source": [
    "#funcion auxiliar para retro-propagacion: derivada de la funcion sigmoide\n",
    "def g_der(z):\n",
    "    return np.multiply(s(z),(1-s(z)))"
   ]
  },
  {
   "cell_type": "code",
   "execution_count": 10,
   "metadata": {},
   "outputs": [],
   "source": [
    "#funcion para elegir E inicial segun los L_in L_out\n",
    "def e_ini(L_in, L_out):\n",
    "    return math.sqrt(6)/math.sqrt(L_in+L_out)"
   ]
  },
  {
   "cell_type": "code",
   "execution_count": 11,
   "metadata": {},
   "outputs": [],
   "source": [
    "#inicializar una matriz de pesos theta, rdm = biblioteca.random\n",
    "def pesosAleatorios(L_in, L_out):\n",
    "    i = 0\n",
    "    lista = []\n",
    "    e = e_ini(L_in, L_out)\n",
    "    while(i != L_out*(1+L_in)):\n",
    "        i = i + 1\n",
    "        lista.append(rdm(-e, e))\n",
    "    return np.array(lista).resize(L_out, 1+L_in)"
   ]
  },
  {
   "cell_type": "code",
   "execution_count": 37,
   "metadata": {},
   "outputs": [],
   "source": [
    "#gradiente sin regularizar\n",
    "def retro_propagacion(params_rn, num_entradas, num_ocultas, num_etiquetas, X, y_list_, reg):\n",
    "    [m,n] = X.shape\n",
    "    theta1= np.reshape(params_rn[:num_ocultas * (num_entradas+1)],\n",
    "                        (num_ocultas, (num_entradas + 1)))\n",
    "    theta2 = np.reshape(params_rn[(num_ocultas * (num_entradas + 1)):],\n",
    "                        (num_etiquetas,(num_ocultas + 1)))\n",
    "    \n",
    "    a1, z2, a2, z3, h = propagacion_delante(X, y_list_, theta1, theta2) #1\n",
    "    y_list_ = listToArray(y_list_)\n",
    "    y_aux = pd.get_dummies(y_list_.flatten())\n",
    "    #y_list = np.matrix(y_list)\n",
    "    \n",
    "    delta1 = np.zeros(theta1.shape)\n",
    "    delta2 = np.zeros(theta2.shape)\n",
    "    \n",
    "    for i in range(m):\n",
    "        ones = np.ones(1)\n",
    "        a1 = np.hstack((ones, X[i]))\n",
    "        z2 = a1 @ theta1.T\n",
    "        a2 = np.hstack((ones, s(z2)))\n",
    "        z3 = a2 @ theta2.T\n",
    "        a3 = s(z3)\n",
    "\n",
    "        d3 = a3 - y_aux.iloc[i,:][np.newaxis,:]\n",
    "        z2 = np.hstack((ones, z2))\n",
    "        d2 = np.multiply(theta2.T @ d3.T, g_der(z2).T[:,np.newaxis])\n",
    "        delta1 = delta1 + d2[1:,:] @ a1[np.newaxis,:]\n",
    "        delta2 = delta2 + d3.T @ a2[np.newaxis,:]\n",
    "        \n",
    "    delta1 = delta1 / m\n",
    "    delta2 = delta2 / m\n",
    "    \n",
    "    #gradientes regularizadas\n",
    "    delta1[:,1:] = delta1[:,1:] + (theta1[:,1:] * reg) / m\n",
    "    delta2[:,1:] = delta2[:,1:] + (theta2[:,1:] * reg) / m\n",
    "    \n",
    "    grad = np.concatenate((np.ravel(delta1), np.ravel(delta2)))\n",
    "    \n",
    "    return grad"
   ]
  },
  {
   "cell_type": "code",
   "execution_count": 13,
   "metadata": {},
   "outputs": [],
   "source": [
    "def backprop(params_rn , num_entradas , num_ocultas , num_etiquetas , X, y , reg):\n",
    "    return fun_cost(params_rn, num_entradas, num_ocultas, num_etiquetas, X, y, reg), retro_propagacion(params_rn, num_entradas, num_ocultas, num_etiquetas, X, y, reg) "
   ]
  },
  {
   "cell_type": "code",
   "execution_count": 38,
   "metadata": {
    "scrolled": false
   },
   "outputs": [
    {
     "data": {
      "text/plain": [
       "array([ 5.27761029e-11, -3.29852898e-13,  5.67279904e-12,  6.95585256e-12,\n",
       "       -6.52669585e-11,  2.08456863e-12, -1.51965315e-11, -4.60273486e-11,\n",
       "       -9.52194434e-11,  7.04842781e-12, -4.42525599e-11, -1.24605798e-10,\n",
       "       -2.40059500e-11,  2.76547969e-12, -6.02735570e-12, -2.49761462e-11,\n",
       "        2.37940986e-11, -4.96176017e-13,  9.77740458e-12,  2.73879391e-11,\n",
       "        6.03759820e-11,  1.55131186e-11,  6.81166235e-12,  7.48807960e-12,\n",
       "        1.90087945e-11,  1.88440930e-11,  7.15513759e-11,  1.33875688e-11,\n",
       "        4.89146224e-12,  1.15286669e-11,  1.70987668e-11,  2.23745744e-11,\n",
       "        7.55119856e-11,  1.60134683e-11,  6.39788222e-12,  1.78091986e-11,\n",
       "        1.43913215e-11,  2.04546102e-11])"
      ]
     },
     "execution_count": 38,
     "metadata": {},
     "output_type": "execute_result"
    }
   ],
   "source": [
    "compararGradientes.checkNNGradients(backprop, 0)"
   ]
  }
 ],
 "metadata": {
  "kernelspec": {
   "display_name": "Python 3",
   "language": "python",
   "name": "python3"
  },
  "language_info": {
   "codemirror_mode": {
    "name": "ipython",
    "version": 3
   },
   "file_extension": ".py",
   "mimetype": "text/x-python",
   "name": "python",
   "nbconvert_exporter": "python",
   "pygments_lexer": "ipython3",
   "version": "3.7.3"
  }
 },
 "nbformat": 4,
 "nbformat_minor": 2
}
