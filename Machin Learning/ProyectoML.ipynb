{
 "cells": [
  {
   "cell_type": "code",
   "execution_count": 1,
   "metadata": {},
   "outputs": [],
   "source": [
    "import numpy as np\n",
    "from pandas.io.parsers import read_csv\n",
    "from pandas import pandas as pd\n",
    "import matplotlib.pyplot as plt\n",
    "%matplotlib inline\n",
    "from sklearn.svm import SVC\n",
    "from scipy.optimize import minimize\n",
    "import scipy.optimize as opt\n",
    "from sklearn.preprocessing import OneHotEncoder\n",
    "import math\n",
    "import random as rdm\n",
    "import scipy.optimize as opt"
   ]
  },
  {
   "cell_type": "code",
   "execution_count": 2,
   "metadata": {},
   "outputs": [],
   "source": [
    "import warnings\n",
    "warnings.filterwarnings('ignore')\n",
    "from IPython.core.interactiveshell import InteractiveShell\n",
    "InteractiveShell.ast_node_interactivity = \"all\"\n",
    "# Graphics in SVG format are more sharp and legible\n",
    "\n",
    "# `pairplot()` may become very slow with the SVG format\n",
    "%config InlineBackend.figure_format = 'png'"
   ]
  },
  {
   "cell_type": "code",
   "execution_count": 3,
   "metadata": {},
   "outputs": [
    {
     "data": {
      "text/plain": [
       "array([[24,  2,  3, ...,  3,  0,  1],\n",
       "       [45,  1,  3, ...,  4,  0,  1],\n",
       "       [43,  2,  3, ...,  4,  0,  1],\n",
       "       ...,\n",
       "       [39,  3,  3, ...,  4,  0,  3],\n",
       "       [33,  3,  3, ...,  2,  0,  3],\n",
       "       [17,  3,  3, ...,  4,  0,  3]], dtype=int64)"
      ]
     },
     "execution_count": 3,
     "metadata": {},
     "output_type": "execute_result"
    }
   ],
   "source": [
    "def lee_csv(filename):\n",
    "    valores = read_csv(filename, header= None)\n",
    "    valores.columns = ['edad', 'educacionEsposa','educacionEsposo','numHijos','religionEsposa','trabajandoEsposa','ocupacionEsposo','indiceVida','exposicionMedios','metodoAnticonceptivo']\n",
    "    return valores.values\n",
    "datos = lee_csv('C:/Users/HAO-H/Documents/Universidad/AA/zPracticas/practica7_EntregaFinal/cmc.data')\n",
    "#C:\\Users\\HAO-H\\Documents\\Universidad\\AA\\zPracticas\\practica7_EntregaFinal\n",
    "datos"
   ]
  },
  {
   "cell_type": "code",
   "execution_count": 4,
   "metadata": {},
   "outputs": [
    {
     "name": "stdout",
     "output_type": "stream",
     "text": [
      "(1473, 9)\n",
      "(1473, 1)\n"
     ]
    }
   ],
   "source": [
    "m, n = datos.shape\n",
    "X = datos[:,:n-1]\n",
    "#cogemos por metodo anticonceptivo\n",
    "Y = datos[:,n-1:n]\n",
    "print(X.shape)\n",
    "print(Y.shape)"
   ]
  },
  {
   "cell_type": "code",
   "execution_count": 5,
   "metadata": {},
   "outputs": [
    {
     "name": "stdout",
     "output_type": "stream",
     "text": [
      "[[24  2  3 ...  2  3  0]\n",
      " [45  1  3 ...  3  4  0]\n",
      " [43  2  3 ...  3  4  0]\n",
      " ...\n",
      " [45  4  4 ...  1  4  0]\n",
      " [25  3  3 ...  2  4  0]\n",
      " [36  4  3 ...  3  2  0]]\n"
     ]
    }
   ],
   "source": [
    "#1\n",
    "Xent = X[:291,:]\n",
    "Yent = Y[:291,:]\n",
    "\n",
    "# Xent = pd.concat([Xent, X[1001:1150,:]])\n",
    "# Yent = pd.concat([Yent, Y[1001:1150,:]])\n",
    "Xent = np.concatenate((Xent,X[1001:1150,:]),axis=0)\n",
    "Yent = np.concatenate((Yent,Y[1001:1150,:]),axis=0)\n",
    "print(Xent)\n",
    "\n",
    "Xval = X[292:353,:]\n",
    "Yval = Y[292:353,:]\n",
    "Xval = np.concatenate((Xval, X[1151:1182,:]),axis=0)\n",
    "Yval = np.concatenate((Yval, Y[1151:1182,:]),axis=0)\n",
    "\n",
    "Xpru = X[354:415,:]\n",
    "Ypru = Y[354:415,:]\n",
    "Xpru = np.concatenate((Xpru, X[1183:1214,:]),axis=0)\n",
    "Ypru = np.concatenate((Ypru, Y[1183:1214,:]),axis=0)\n",
    "\n",
    "\n",
    "#2\n",
    "Xent = np.concatenate((Xent, X[416:575,:]),axis = 0)\n",
    "Yent = np.concatenate((Yent, Y[416:575,:]),axis = 0)\n",
    "Xent = np.concatenate((Xent, X[1215:1288,:]),axis = 0)\n",
    "Yent = np.concatenate((Yent, Y[1215:1288,:]),axis = 0)\n",
    "\n",
    "\n",
    "Xval = np.concatenate((Xval, X[576:609,:]),axis = 0)\n",
    "Yval = np.concatenate((Yval, Y[576:609,:]),axis = 0)\n",
    "Xval = np.concatenate((Xval, X[1289:1304,:]),axis = 0)\n",
    "Yval = np.concatenate((Yval, Y[1289:1304,:]),axis = 0)\n",
    "\n",
    "\n",
    "Xpru = np.concatenate((Xpru, X[610:643,:]),axis = 0)\n",
    "Ypru = np.concatenate((Ypru, Y[610:643,:]),axis = 0)\n",
    "Xpru = np.concatenate((Xpru, X[1305:1320,:]),axis = 0)\n",
    "Ypru = np.concatenate((Ypru, Y[1305:1320,:]),axis = 0)\n",
    "\n",
    "\n",
    "#3\n",
    "Xent = np.concatenate((Xent, X[644:894,:]),axis = 0)\n",
    "Yent = np.concatenate((Yent, Y[644:894,:]),axis = 0)\n",
    "Xent = np.concatenate((Xent, X[1321:1427,:]),axis = 0)\n",
    "Yent = np.concatenate((Yent, Y[1321:1427,:]),axis = 0)\n",
    "\n",
    "Xval = np.concatenate((Xval, X[895:947,:]),axis = 0)\n",
    "Yval = np.concatenate((Yval, Y[895:947,:]),axis = 0)\n",
    "Xval = np.concatenate((Xval, X[1428:1450,:]),axis = 0)\n",
    "Yval = np.concatenate((Yval, Y[1428:1450,:]),axis = 0)\n",
    "\n",
    "Xpru = np.concatenate((Xpru, X[948:1000,:]),axis = 0)\n",
    "Ypru = np.concatenate((Ypru, Y[948:1000,:]),axis = 0)\n",
    "Xpru = np.concatenate((Xpru, X[1451:1473,:]),axis = 0)\n",
    "Ypru = np.concatenate((Ypru, Y[1451:1473,:]),axis = 0)\n",
    "\n"
   ]
  },
  {
   "cell_type": "code",
   "execution_count": 6,
   "metadata": {},
   "outputs": [],
   "source": [
    "def s(z):\n",
    "    return 1 / (1 + np.exp(-z))"
   ]
  },
  {
   "cell_type": "code",
   "execution_count": 7,
   "metadata": {},
   "outputs": [],
   "source": [
    "def coste(theta, X, y,landa):\n",
    "    theta = np.matrix(theta)\n",
    "    X = np.matrix(X)\n",
    "    y = np.matrix(y)\n",
    "    first = np.multiply(-y, np.log(s(X * theta.T)))\n",
    "    second = np.multiply((1 - y), np.log(1 - s(X * theta.T)))\n",
    "    aux = (landa/ 2 * len(X)) * np.sum(np.power(theta[:,1:theta.shape[1]], 2))\n",
    "    return np.sum(first - second) / (len(X)) + aux"
   ]
  },
  {
   "cell_type": "code",
   "execution_count": 8,
   "metadata": {},
   "outputs": [],
   "source": [
    "def gradiente(theta, X, y, reg):\n",
    "    theta = np.matrix(theta)\n",
    "    #print(theta)\n",
    "    X = np.matrix(X)\n",
    "    y = np.matrix(y)\n",
    "    #print(theta.T.shape)\n",
    "    #print(X.shape)\n",
    "    aux = s(X * theta.T) - y\n",
    "    \n",
    "    gradiente = ((X.T * aux) / len(X)).T + ((reg / len(X)) * theta)\n",
    "    \n",
    "    gradiente[0, 0] = np.sum(np.multiply(aux, X[:,0])) / len(X)\n",
    "    \n",
    "    return np.array(gradiente).ravel()"
   ]
  },
  {
   "cell_type": "markdown",
   "metadata": {},
   "source": [
    "1. REGRESION LOGISTICA MULTICLASE\n"
   ]
  },
  {
   "cell_type": "code",
   "execution_count": 9,
   "metadata": {},
   "outputs": [],
   "source": [
    "def one_vs_all(X, y, num_etiquetas, reg):\n",
    "    filas = X.shape[0]\n",
    "    cols= X.shape[1]\n",
    "\n",
    "    all_theta = np.zeros((num_etiquetas, cols + 1))\n",
    "    X = np.insert(X, 0, values=np.ones(filas), axis=1)\n",
    "    #print(X)\n",
    "\n",
    "    for i in range(1, num_etiquetas + 1):\n",
    "        theta = np.zeros(cols + 1)\n",
    "        aux_y = np.array([1 if label == i else 0 for label in y])\n",
    "        aux_y = np.reshape(aux_y, (filas, 1))\n",
    "        #result = opt.fmin_tnc(func= coste, x0=theta, fprime=gradiente, args =(X, aux_y,reg))\n",
    "\n",
    "        result = minimize(fun=coste, x0=theta, args=(X, aux_y, reg), method='TNC', jac=gradiente)\n",
    "        all_theta[i-1,:] = result.x\n",
    "        #all_theta = result.x\n",
    "       \n",
    "    return all_theta\n"
   ]
  },
  {
   "cell_type": "code",
   "execution_count": 10,
   "metadata": {},
   "outputs": [],
   "source": [
    "def costeGradiente(X,y, theta, landa):\n",
    "    m=len(X)\n",
    "    theta = theta.reshape(-1, y.shape[1])\n",
    "    #COSTE\n",
    "    coste1 = (np.sum(np.power(np.dot(X,theta)-y,2)))/(2*m)\n",
    "    coste2 = coste1 + (landa/(2*m))* (np.sum(np.power(theta[1:len(theta)],2)))\n",
    "    #GRADIENTE\n",
    "    #para j = 0\n",
    "    grad = (1 / m) * np.dot(X.T, np.dot(X, theta) - y) + (landa/ m ) * theta\n",
    "    \n",
    "    # j=0\n",
    "    unreg_grad = (1 / m) * np.dot(X.T, np.dot(X, theta) - y)\n",
    "    grad[0] = unreg_grad[0]\n",
    "    return coste2, grad.flatten()\n"
   ]
  },
  {
   "cell_type": "code",
   "execution_count": 11,
   "metadata": {},
   "outputs": [],
   "source": [
    "def predict(X, all_theta, y):\n",
    "    num_etiquetas = all_theta.shape[0]\n",
    "    filas = X.shape[0]\n",
    "    cols= X.shape[1]\n",
    "    \n",
    "    ones = np.ones((filas,1))\n",
    "    X = np.hstack((ones, X))\n",
    "    \n",
    "    X = np.matrix(X)\n",
    "    all_theta = np.matrix(all_theta)\n",
    "    \n",
    "    hipotesis = s(X * all_theta.T)\n",
    "    #max\n",
    "    hipotesis_max = np.argmax(hipotesis, axis=1)\n",
    "    hipotesis_max = hipotesis_max + 1\n",
    "    \n",
    "    y = np.matrix(y)\n",
    "    \n",
    "    correcto = [1 if i == x else 0 for (i, x) in zip(hipotesis_max, y)]\n",
    "    result = (sum(map(int, correcto)) / len(correcto))\n",
    "    result = result * 100\n",
    "    return result"
   ]
  },
  {
   "cell_type": "code",
   "execution_count": 12,
   "metadata": {},
   "outputs": [],
   "source": [
    "def errorLanda(X, y, Xval, yval):\n",
    "    landa = np.array([(0, 0.25, 0.5, 0.75, 1, 2, 3, 10, 20, 50, 200)]).T\n",
    "    \n",
    "    tamLanda = len(landa)\n",
    "    num_etiquetas = 3\n",
    "    \n",
    "    error_entrenamiento = np.zeros((tamLanda, 1))\n",
    "    error_val = np.zeros((tamLanda, 1))\n",
    "    \n",
    "    for i in range(tamLanda):\n",
    "        landa_aux = landa[i]\n",
    "        theta = one_vs_all(X, y, num_etiquetas, landa_aux)\n",
    "#         print(theta)\n",
    "        #obtenemos el error de cada landa\n",
    "        error_entrenamiento[i] = predict(X, theta, y)\n",
    "        #print(error_entrenamiento[i])\n",
    "        error_val[i] = predict(Xval, theta, yval)\n",
    "#         print(error_val[i])\n",
    "    return landa, error_entrenamiento, error_val\n",
    "landa_aux, error_entrenamiento, error_val = errorLanda(Xent,Yent, Xval, Yval)"
   ]
  },
  {
   "cell_type": "code",
   "execution_count": 13,
   "metadata": {
    "scrolled": true
   },
   "outputs": [
    {
     "data": {
      "text/plain": [
       "Text(0.5, 0, 'landa')"
      ]
     },
     "execution_count": 13,
     "metadata": {},
     "output_type": "execute_result"
    },
    {
     "data": {
      "text/plain": [
       "Text(0, 0.5, 'Error')"
      ]
     },
     "execution_count": 13,
     "metadata": {},
     "output_type": "execute_result"
    },
    {
     "data": {
      "text/plain": [
       "[<matplotlib.lines.Line2D at 0x218817972e8>]"
      ]
     },
     "execution_count": 13,
     "metadata": {},
     "output_type": "execute_result"
    },
    {
     "data": {
      "text/plain": [
       "[<matplotlib.lines.Line2D at 0x2188694efd0>]"
      ]
     },
     "execution_count": 13,
     "metadata": {},
     "output_type": "execute_result"
    },
    {
     "data": {
      "text/plain": [
       "<matplotlib.legend.Legend at 0x2188694e550>"
      ]
     },
     "execution_count": 13,
     "metadata": {},
     "output_type": "execute_result"
    },
    {
     "data": {
      "image/png": "[encoded data removed]",
      "text/plain": [
       "<Figure size 432x288 with 1 Axes>"
      ]
     },
     "metadata": {
      "needs_background": "light"
     },
     "output_type": "display_data"
    }
   ],
   "source": [
    "plt.xlabel('landa')\n",
    "plt.ylabel('Error')\n",
    "#plt.title('Selecting $\\landa_aux$ using a cross validation set')\n",
    "plt.plot(landa_aux, error_entrenamiento, 'b', label='Train')\n",
    "plt.plot(landa_aux, error_val, 'g', label='Cross Validation',color='r')\n",
    "\n",
    "plt.legend()\n"
   ]
  },
  {
   "cell_type": "markdown",
   "metadata": {},
   "source": [
    "Los mejores valores de landa son 1 y a partir de 50. Son los valores en los que el error es minimo."
   ]
  },
  {
   "cell_type": "code",
   "execution_count": 14,
   "metadata": {},
   "outputs": [],
   "source": [
    "XentVal = np.concatenate((Xent, Xval),axis = 0)\n",
    "YentVal = np.concatenate((Yent, Yval),axis = 0)"
   ]
  },
  {
   "cell_type": "code",
   "execution_count": 15,
   "metadata": {},
   "outputs": [
    {
     "data": {
      "text/plain": [
       "49.0272373540856"
      ]
     },
     "execution_count": 15,
     "metadata": {},
     "output_type": "execute_result"
    }
   ],
   "source": [
    "theta1 = one_vs_all(Xent, Yent, 3, 1)\n",
    "predict(Xent, theta1, Yent)"
   ]
  },
  {
   "cell_type": "code",
   "execution_count": 16,
   "metadata": {},
   "outputs": [
    {
     "data": {
      "text/plain": [
       "50.467289719626166"
      ]
     },
     "execution_count": 16,
     "metadata": {},
     "output_type": "execute_result"
    }
   ],
   "source": [
    "theta2 = one_vs_all(Xval, Yval, 3, 1)\n",
    "predict(Xval, theta2, Yval)"
   ]
  },
  {
   "cell_type": "code",
   "execution_count": 17,
   "metadata": {},
   "outputs": [
    {
     "data": {
      "text/plain": [
       "56.074766355140184"
      ]
     },
     "execution_count": 17,
     "metadata": {},
     "output_type": "execute_result"
    }
   ],
   "source": [
    "theta3= one_vs_all(Xpru,Ypru, 3, 1)\n",
    "predict(Xpru, theta3, Ypru)"
   ]
  },
  {
   "cell_type": "code",
   "execution_count": 18,
   "metadata": {},
   "outputs": [
    {
     "data": {
      "text/plain": [
       "47.74557165861514"
      ]
     },
     "execution_count": 18,
     "metadata": {},
     "output_type": "execute_result"
    }
   ],
   "source": [
    "theta4= one_vs_all(XentVal,YentVal, 3, 1)\n",
    "predict(XentVal, theta4, YentVal)"
   ]
  },
  {
   "cell_type": "markdown",
   "metadata": {},
   "source": [
    "PORCENTAJES OBTENIDOS DE LA REGRESIÓN MULTICLASE"
   ]
  },
  {
   "cell_type": "code",
   "execution_count": 19,
   "metadata": {},
   "outputs": [
    {
     "data": {
      "text/plain": [
       "<BarContainer object of 4 artists>"
      ]
     },
     "execution_count": 19,
     "metadata": {},
     "output_type": "execute_result"
    },
    {
     "data": {
      "text/plain": [
       "([<matplotlib.axis.XTick at 0x21886c9cc18>,\n",
       "  <matplotlib.axis.XTick at 0x21886c9c518>,\n",
       "  <matplotlib.axis.XTick at 0x21886c9c278>,\n",
       "  <matplotlib.axis.XTick at 0x21886cbbcf8>],\n",
       " <a list of 4 Text xticklabel objects>)"
      ]
     },
     "execution_count": 19,
     "metadata": {},
     "output_type": "execute_result"
    },
    {
     "data": {
      "image/png": "[encoded data removed]",
      "text/plain": [
       "<Figure size 432x288 with 1 Axes>"
      ]
     },
     "metadata": {
      "needs_background": "light"
     },
     "output_type": "display_data"
    }
   ],
   "source": [
    "x = np.arange(4)\n",
    "plt.bar(x, height= [49.03, 50.47, 47.75, 56.07])\n",
    "plt.xticks(x,['Datos entrenamiento','Datos validación', 'Datos ent+Val', 'Datos prueba'])"
   ]
  },
  {
   "cell_type": "markdown",
   "metadata": {},
   "source": [
    "REDES NEURONALES:"
   ]
  },
  {
   "cell_type": "markdown",
   "metadata": {},
   "source": [
    "    Funciones auxiliares"
   ]
  },
  {
   "cell_type": "code",
   "execution_count": 20,
   "metadata": {},
   "outputs": [],
   "source": [
    "def propagacion_delante(X, y, Theta1, Theta2):\n",
    "    filas = len(y)\n",
    "    a1_ = np.insert(X, 0, values=np.ones(filas), axis=1)\n",
    "    z2_ = a1_ @ Theta1.T\n",
    "    a2_ =  np.insert(s(z2_), 0, values=np.ones(filas), axis=1)\n",
    "    z3_ = a2_ @ Theta2.T\n",
    "    h_ = s(z3_)\n",
    "    return a1_ , z2_ , a2_ , z3_ , h_\n",
    "\n",
    "def listToArray(y):\n",
    "    if type(y) == list:\n",
    "        y = np.array(y).reshape(-1, 1)      \n",
    "    return y\n",
    "\n",
    "#inicializar una matriz de pesos theta, rdm = biblioteca.random\n",
    "def pesosAleatorios(L_in, L_out):\n",
    "    epsilon = e_ini(L_in, L_out)\n",
    "    return np.random.rand(L_out, L_in+1) * 2 * epsilon - epsilon\n",
    "\n",
    "#funcion auxiliar para retro-propagacion: derivada de la funcion sigmoide\n",
    "def g_der(z):\n",
    "    return np.multiply(s(z),(1-s(z)))\n",
    "\n",
    "#funcion para elegir E inicial segun los L_in L_out\n",
    "def e_ini(L_in, L_out):\n",
    "    return math.sqrt(6)/math.sqrt(L_in+L_out)\n",
    "\n",
    "#Union de thetas\n",
    "#params_rn=np.hstack((thet1.ravel(), thet2.ravel()))"
   ]
  },
  {
   "cell_type": "code",
   "execution_count": 21,
   "metadata": {},
   "outputs": [],
   "source": [
    "def fun_cost2(params_rn, num_entradas, num_ocultas, num_etiquetas, X, y_list_, reg):\n",
    "    [m,n] = X.shape\n",
    "    theta1= np.reshape(params_rn[:num_ocultas * (num_entradas+1)],\n",
    "                        (num_ocultas, (num_entradas + 1)))\n",
    "    theta2 = np.reshape(params_rn[(num_ocultas * (num_entradas + 1)):],\n",
    "                        (num_etiquetas,(num_ocultas + 1)))\n",
    "    \n",
    "   \n",
    "    a1, z2, a2, z3, h = propagacion_delante(X, y_list_, theta1, theta2)\n",
    "    y_list_ = listToArray(y_list_)\n",
    "    y_aux = pd.get_dummies(y_list_.flatten())\n",
    "    \n",
    "    #Función de coste regularizada\n",
    "    primera = np.sum((np.sum(np.multiply(y_aux, np.log(h)) + np.multiply(1-y_aux,np.log(1-h))))/(-m))\n",
    "    result = primera + reg * ((np.sum(np.sum(np.power(theta1[:,1:], 2),axis=1))) + \n",
    "                               (np.sum(np.sum(np.power(theta2[:,1:], 2), axis=1))))/(2*m)\n",
    "    \n",
    "    return result"
   ]
  },
  {
   "cell_type": "code",
   "execution_count": 22,
   "metadata": {},
   "outputs": [],
   "source": [
    "def retro_propagacion(params_rn, num_entradas, num_ocultas, num_etiquetas, X, y_list_, reg):\n",
    "    [m,n] = X.shape\n",
    "    theta1= np.reshape(params_rn[:num_ocultas * (num_entradas+1)],\n",
    "                        (num_ocultas, (num_entradas + 1)))\n",
    "    theta2 = np.reshape(params_rn[(num_ocultas * (num_entradas + 1)):],\n",
    "                        (num_etiquetas,(num_ocultas + 1)))\n",
    "    \n",
    "    a1, z2, a2, z3, h = propagacion_delante(X, y_list_, theta1, theta2) #1\n",
    "    y_list_ = listToArray(y_list_)\n",
    "    y_aux = pd.get_dummies(y_list_.flatten())\n",
    "    \n",
    "    delta1 = np.zeros(theta1.shape)\n",
    "    delta2 = np.zeros(theta2.shape)\n",
    "    \n",
    "    for i in range(m):\n",
    "        ones = np.ones(1)\n",
    "        a1 = np.hstack((ones, X[i]))\n",
    "        z2 = a1 @ theta1.T\n",
    "        a2 = np.hstack((ones, s(z2)))\n",
    "        z3 = a2 @ theta2.T\n",
    "        a3 = s(z3)\n",
    "\n",
    "        d3 = a3 - y_aux.iloc[i,:][np.newaxis,:]\n",
    "        z2 = np.hstack((ones, z2))\n",
    "        d2 = np.multiply(theta2.T @ d3.T, g_der(z2).T[:,np.newaxis])\n",
    "        delta1 = delta1 + d2[1:,:] @ a1[np.newaxis,:]\n",
    "        delta2 = delta2 + d3.T @ a2[np.newaxis,:]\n",
    "        \n",
    "    delta1 = delta1 / m\n",
    "    delta2 = delta2 / m\n",
    "    \n",
    "    #gradientes regularizadas\n",
    "    delta1[:,1:] = delta1[:,1:] + (theta1[:,1:] * reg) / m\n",
    "    delta2[:,1:] = delta2[:,1:] + (theta2[:,1:] * reg) / m\n",
    "    \n",
    "    grad = np.concatenate((np.ravel(delta1), np.ravel(delta2)))\n",
    "    \n",
    "    return grad"
   ]
  },
  {
   "cell_type": "code",
   "execution_count": 23,
   "metadata": {},
   "outputs": [],
   "source": [
    "def backprop(params_rn , num_entradas , num_ocultas , num_etiquetas , X, y , reg):\n",
    "    return fun_cost(params_rn, num_entradas, num_ocultas, num_etiquetas, X, y, reg), retro_propagacion(params_rn, num_entradas, num_ocultas, num_etiquetas, X, y, reg) "
   ]
  },
  {
   "cell_type": "code",
   "execution_count": 45,
   "metadata": {},
   "outputs": [],
   "source": [
    "def predict2(theta1, theta2, X, y):\n",
    "    \n",
    "    [filas, cols] = X.shape\n",
    "        \n",
    "    X = np.matrix(X)\n",
    "    y = np.matrix(y)\n",
    "    theta1 = np.matrix(theta1)\n",
    "    theta2 = np.matrix(theta2)\n",
    "    \n",
    "    \n",
    "    a1, z2, a2, z3, hipotesis = propagacion_delante(X, y, theta1, theta2)\n",
    "    \n",
    "    #max\n",
    "    hipotesis_max = np.argmax(hipotesis, axis=1)\n",
    "    hipotesis_max = hipotesis_max + 1\n",
    "    \n",
    "    correcto = [1 if i == x else 0 for (i, x) in zip(hipotesis_max, y)]\n",
    "    result = (sum(map(int, correcto)) / len(correcto))\n",
    "    result = result * 100\n",
    "    return result"
   ]
  },
  {
   "cell_type": "code",
   "execution_count": 54,
   "metadata": {},
   "outputs": [],
   "source": [
    "def errorLanda2(X, y, Xval, yval, theta1_inicial, theta2_inicial):\n",
    "    landa = np.array([(0, 0.25, 0.5, 0.75, 1, 2, 3, 5)]).T\n",
    "    tamLanda = len(landa)\n",
    "    [m, n] = X.shape\n",
    "    \n",
    "    num_etiquetas = 3\n",
    "    num_entradas = 9\n",
    "    num_ocultas = 10\n",
    "    \n",
    "    error_entrenamiento = np.zeros((tamLanda, 1))\n",
    "    error_val = np.zeros((tamLanda, 1))\n",
    "    theta_ini = np.zeros((n, 1))\n",
    "    \n",
    "    #Union de thetas\n",
    "    params_rn_inicial = np.hstack((theta1_inicial.ravel(), theta2_inicial.ravel()))\n",
    "    \n",
    "    for i in range(tamLanda):\n",
    "\n",
    "        \n",
    "        #result = opt.fmin_tnc(func = fun_cost2, x0 = params_rn_inicial, fprime = retro_propagacion,  args = (num_entradas, num_ocultas, num_etiquetas, X, y, landa[i]))\n",
    "        params_rn = opt.fmin_cg(maxiter=10, f=fun_cost2, x0=params_rn_inicial, fprime=retro_propagacion, args=(num_entradas, num_ocultas, num_etiquetas, X, y, landa[i]))\n",
    "        \n",
    "        #print(result)\n",
    "        theta11 = np.reshape(params_rn[:num_ocultas * (num_entradas+1)],\n",
    "                        (num_ocultas, (num_entradas + 1)))\n",
    "        \n",
    "        theta21 = np.reshape(params_rn[(num_ocultas * (num_entradas + 1)):],\n",
    "                        (num_etiquetas,(num_ocultas + 1)))\n",
    "        \n",
    "        error_entrenamiento[i] = predict2(theta11, theta21, X, y)\n",
    "        error_val[i] =  predict2(theta11, theta21, Xval, yval)\n",
    "        \n",
    "    return landa, error_entrenamiento, error_val\n"
   ]
  },
  {
   "cell_type": "code",
   "execution_count": 55,
   "metadata": {},
   "outputs": [
    {
     "name": "stdout",
     "output_type": "stream",
     "text": [
      "Warning: Maximum number of iterations has been exceeded.\n",
      "         Current function value: 1.851569\n",
      "         Iterations: 10\n",
      "         Function evaluations: 37\n",
      "         Gradient evaluations: 37\n",
      "Warning: Maximum number of iterations has been exceeded.\n",
      "         Current function value: 1.853419\n",
      "         Iterations: 10\n",
      "         Function evaluations: 34\n",
      "         Gradient evaluations: 34\n",
      "Warning: Maximum number of iterations has been exceeded.\n",
      "         Current function value: 1.854919\n",
      "         Iterations: 10\n",
      "         Function evaluations: 32\n",
      "         Gradient evaluations: 32\n",
      "Warning: Maximum number of iterations has been exceeded.\n",
      "         Current function value: 1.858758\n",
      "         Iterations: 10\n",
      "         Function evaluations: 29\n",
      "         Gradient evaluations: 29\n",
      "Warning: Maximum number of iterations has been exceeded.\n",
      "         Current function value: 1.858056\n",
      "         Iterations: 10\n",
      "         Function evaluations: 29\n",
      "         Gradient evaluations: 29\n",
      "Warning: Maximum number of iterations has been exceeded.\n",
      "         Current function value: 1.858911\n",
      "         Iterations: 10\n",
      "         Function evaluations: 27\n",
      "         Gradient evaluations: 27\n",
      "Warning: Maximum number of iterations has been exceeded.\n",
      "         Current function value: 1.862787\n",
      "         Iterations: 10\n",
      "         Function evaluations: 23\n",
      "         Gradient evaluations: 23\n",
      "Warning: Maximum number of iterations has been exceeded.\n",
      "         Current function value: 1.863861\n",
      "         Iterations: 10\n",
      "         Function evaluations: 25\n",
      "         Gradient evaluations: 25\n"
     ]
    }
   ],
   "source": [
    "num_etiquetas = 3\n",
    "num_entradas = 9\n",
    "num_ocultas = 10\n",
    "theta1_inicial = pesosAleatorios(num_entradas, num_ocultas)\n",
    "#print(theta1_inicial.shape)\n",
    "theta2_inicial = pesosAleatorios(num_ocultas, num_etiquetas)\n",
    "\n",
    "landa_aux2, error_entrenamiento2, error_val2 = errorLanda2(Xent, Yent, Xval, Yval, theta1_inicial, theta2_inicial)"
   ]
  },
  {
   "cell_type": "code",
   "execution_count": 56,
   "metadata": {},
   "outputs": [
    {
     "data": {
      "text/plain": [
       "Text(0.5, 0, 'landa')"
      ]
     },
     "execution_count": 56,
     "metadata": {},
     "output_type": "execute_result"
    },
    {
     "data": {
      "text/plain": [
       "Text(0, 0.5, 'Error')"
      ]
     },
     "execution_count": 56,
     "metadata": {},
     "output_type": "execute_result"
    },
    {
     "name": "stdout",
     "output_type": "stream",
     "text": [
      "[[0.  ]\n",
      " [0.25]\n",
      " [0.5 ]\n",
      " [0.75]\n",
      " [1.  ]\n",
      " [2.  ]\n",
      " [3.  ]\n",
      " [5.  ]]\n",
      "[[42.80155642]\n",
      " [42.80155642]\n",
      " [42.80155642]\n",
      " [42.80155642]\n",
      " [42.80155642]\n",
      " [43.38521401]\n",
      " [42.80155642]\n",
      " [43.09338521]]\n",
      "(8, 1)\n"
     ]
    },
    {
     "data": {
      "text/plain": [
       "[<matplotlib.lines.Line2D at 0x218890cac50>]"
      ]
     },
     "execution_count": 56,
     "metadata": {},
     "output_type": "execute_result"
    },
    {
     "data": {
      "text/plain": [
       "[<matplotlib.lines.Line2D at 0x218890e2a90>]"
      ]
     },
     "execution_count": 56,
     "metadata": {},
     "output_type": "execute_result"
    },
    {
     "data": {
      "text/plain": [
       "<matplotlib.legend.Legend at 0x218890ca5c0>"
      ]
     },
     "execution_count": 56,
     "metadata": {},
     "output_type": "execute_result"
    },
    {
     "data": {
      "image/png": "[encoded data removed]",
      "text/plain": [
       "<Figure size 432x288 with 1 Axes>"
      ]
     },
     "metadata": {
      "needs_background": "light"
     },
     "output_type": "display_data"
    }
   ],
   "source": [
    "plt.xlabel('landa')\n",
    "plt.ylabel('Error')\n",
    "#plt.title('Selecting $\\landa_aux$ using a cross validation set')\n",
    "print(landa_aux2)\n",
    "print(error_entrenamiento2)\n",
    "print(error_val2.shape)\n",
    "plt.plot(landa_aux2, error_entrenamiento2, 'b', label='Train')\n",
    "plt.plot(landa_aux2, error_val2, 'g', label='Cross Validation',color='r')\n",
    "\n",
    "plt.legend()"
   ]
  },
  {
   "cell_type": "code",
   "execution_count": null,
   "metadata": {},
   "outputs": [],
   "source": []
  },
  {
   "cell_type": "code",
   "execution_count": null,
   "metadata": {},
   "outputs": [],
   "source": []
  }
 ],
 "metadata": {
  "kernelspec": {
   "display_name": "Python 3",
   "language": "python",
   "name": "python3"
  },
  "language_info": {
   "codemirror_mode": {
    "name": "ipython",
    "version": 3
   },
   "file_extension": ".py",
   "mimetype": "text/x-python",
   "name": "python",
   "nbconvert_exporter": "python",
   "pygments_lexer": "ipython3",
   "version": "3.7.3"
  }
 },
 "nbformat": 4,
 "nbformat_minor": 2
}
